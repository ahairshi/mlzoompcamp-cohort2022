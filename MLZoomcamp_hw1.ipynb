{
  "nbformat": 4,
  "nbformat_minor": 0,
  "metadata": {
    "colab": {
      "provenance": [],
      "toc_visible": true,
      "authorship_tag": "ABX9TyP2K1uE3Ra09h2FunPfr8jU",
      "include_colab_link": true
    },
    "kernelspec": {
      "name": "python3",
      "display_name": "Python 3"
    },
    "language_info": {
      "name": "python"
    }
  },
  "cells": [
    {
      "cell_type": "markdown",
      "metadata": {
        "id": "view-in-github",
        "colab_type": "text"
      },
      "source": [
        "<a href=\"https://colab.research.google.com/github/ahairshi/mlzoompcamp-cohort2022/blob/main/MLZoomcamp_hw1.ipynb\" target=\"_parent\"><img src=\"https://colab.research.google.com/assets/colab-badge.svg\" alt=\"Open In Colab\"/></a>"
      ]
    },
    {
      "cell_type": "markdown",
      "source": [
        "## Question 1\n",
        "\n",
        "What's the version of NumPy that you installed?\n",
        "\n",
        "You can get the version information using the __version__ field:"
      ],
      "metadata": {
        "id": "f8-zADX3pgxT"
      }
    },
    {
      "cell_type": "code",
      "execution_count": 1,
      "metadata": {
        "id": "fdBYzVysQtyu"
      },
      "outputs": [],
      "source": [
        "import numpy as np\n",
        "import pandas as pd"
      ]
    },
    {
      "cell_type": "code",
      "source": [
        "np.__version__"
      ],
      "metadata": {
        "colab": {
          "base_uri": "https://localhost:8080/",
          "height": 35
        },
        "id": "KQ-OSMUzpmJR",
        "outputId": "2ebfb515-4573-46f0-ea2b-d7c9c94f9fe1"
      },
      "execution_count": 2,
      "outputs": [
        {
          "output_type": "execute_result",
          "data": {
            "text/plain": [
              "'1.21.6'"
            ],
            "application/vnd.google.colaboratory.intrinsic+json": {
              "type": "string"
            }
          },
          "metadata": {},
          "execution_count": 2
        }
      ]
    },
    {
      "cell_type": "code",
      "source": [
        "!wget -P /content/mlzoomcamp/ https://raw.githubusercontent.com/alexeygrigorev/mlbookcamp-code/master/chapter-02-car-price/data.csv"
      ],
      "metadata": {
        "colab": {
          "base_uri": "https://localhost:8080/"
        },
        "id": "Q1fI6v1HQ47C",
        "outputId": "b5f57576-3f16-49cd-962e-675b6833fdfb"
      },
      "execution_count": 3,
      "outputs": [
        {
          "output_type": "stream",
          "name": "stdout",
          "text": [
            "--2022-09-10 18:37:53--  https://raw.githubusercontent.com/alexeygrigorev/mlbookcamp-code/master/chapter-02-car-price/data.csv\n",
            "Resolving raw.githubusercontent.com (raw.githubusercontent.com)... 185.199.108.133, 185.199.109.133, 185.199.110.133, ...\n",
            "Connecting to raw.githubusercontent.com (raw.githubusercontent.com)|185.199.108.133|:443... connected.\n",
            "HTTP request sent, awaiting response... 200 OK\n",
            "Length: 1475504 (1.4M) [text/plain]\n",
            "Saving to: ‘/content/mlzoomcamp/data.csv.1’\n",
            "\n",
            "data.csv.1          100%[===================>]   1.41M  --.-KB/s    in 0.06s   \n",
            "\n",
            "2022-09-10 18:37:53 (25.5 MB/s) - ‘/content/mlzoomcamp/data.csv.1’ saved [1475504/1475504]\n",
            "\n"
          ]
        }
      ]
    },
    {
      "cell_type": "markdown",
      "source": [
        "## Question 2\n",
        "\n",
        "How many records are in the dataset?\n",
        "\n",
        "Here you need to specify the number of rows.\n",
        "\n"
      ],
      "metadata": {
        "id": "LBmXvjaXqHC3"
      }
    },
    {
      "cell_type": "code",
      "source": [
        "df = pd.read_csv(\"/content/mlzoomcamp/data.csv\")\n",
        "df.shape[0]"
      ],
      "metadata": {
        "id": "RQakOZhoRIJa",
        "colab": {
          "base_uri": "https://localhost:8080/"
        },
        "outputId": "743d18fe-0256-4b55-bd09-8f1b78db686f"
      },
      "execution_count": 4,
      "outputs": [
        {
          "output_type": "execute_result",
          "data": {
            "text/plain": [
              "11914"
            ]
          },
          "metadata": {},
          "execution_count": 4
        }
      ]
    },
    {
      "cell_type": "markdown",
      "source": [
        "## Question 3\n",
        "\n",
        "Who are the most frequent car manufacturers (top-3) according to the dataset?"
      ],
      "metadata": {
        "id": "8h3ojEAfqVZm"
      }
    },
    {
      "cell_type": "code",
      "source": [
        "#unique, counts = np.unique(df['Model'], return_counts=True)\n",
        "pd.value_counts(df['Make'])[0:3]"
      ],
      "metadata": {
        "id": "fsSeirCyTG2Z",
        "colab": {
          "base_uri": "https://localhost:8080/"
        },
        "outputId": "702467de-946f-455c-e624-1cc31b53bdb9"
      },
      "execution_count": 6,
      "outputs": [
        {
          "output_type": "execute_result",
          "data": {
            "text/plain": [
              "Chevrolet     1123\n",
              "Ford           881\n",
              "Volkswagen     809\n",
              "Name: Make, dtype: int64"
            ]
          },
          "metadata": {},
          "execution_count": 6
        }
      ]
    },
    {
      "cell_type": "markdown",
      "source": [
        "## Question 4\n",
        "\n",
        "What's the number of unique Audi car models in the dataset?"
      ],
      "metadata": {
        "id": "jsuR4Z5Rq2zB"
      }
    },
    {
      "cell_type": "code",
      "source": [
        "#len(np.unique(df[df['Make'] == 'Audi']['Model'],return_counts=True)[0])\n",
        "df[df['Make'] == 'Audi']['Model'].nunique()"
      ],
      "metadata": {
        "colab": {
          "base_uri": "https://localhost:8080/"
        },
        "id": "_o6-uUz4V8Qb",
        "outputId": "f7106a3a-9783-4fc6-b915-f0d758381e06"
      },
      "execution_count": 7,
      "outputs": [
        {
          "output_type": "execute_result",
          "data": {
            "text/plain": [
              "34"
            ]
          },
          "metadata": {},
          "execution_count": 7
        }
      ]
    },
    {
      "cell_type": "markdown",
      "source": [
        "## Question 5\n",
        "How many columns in the dataset have missing values?"
      ],
      "metadata": {
        "id": "J8ccOtBYq9qX"
      }
    },
    {
      "cell_type": "code",
      "source": [
        "#df.isnull().sum().sort_values(ascending = False)\n",
        "df.columns[df.isna().any()].tolist()"
      ],
      "metadata": {
        "colab": {
          "base_uri": "https://localhost:8080/"
        },
        "id": "ALW0d6FbeUsi",
        "outputId": "ac12ea26-2819-4a62-deae-b11e8e0f7871"
      },
      "execution_count": 8,
      "outputs": [
        {
          "output_type": "execute_result",
          "data": {
            "text/plain": [
              "['Engine Fuel Type',\n",
              " 'Engine HP',\n",
              " 'Engine Cylinders',\n",
              " 'Number of Doors',\n",
              " 'Market Category']"
            ]
          },
          "metadata": {},
          "execution_count": 8
        }
      ]
    },
    {
      "cell_type": "markdown",
      "source": [
        "## Question 6\n",
        "Find the median value of \"Engine Cylinders\" column in the dataset.\n",
        "\n",
        "\n",
        "\n",
        "Now, calculate the median value of \"Engine Cylinders\" once again.\n"
      ],
      "metadata": {
        "id": "ma8Kci_krdjC"
      }
    },
    {
      "cell_type": "code",
      "source": [
        "df['Engine Cylinders'].median()"
      ],
      "metadata": {
        "colab": {
          "base_uri": "https://localhost:8080/"
        },
        "id": "pwFmhUenepkT",
        "outputId": "c7c8b1c1-62cb-4442-8d2c-f48b6c8817a5"
      },
      "execution_count": 9,
      "outputs": [
        {
          "output_type": "execute_result",
          "data": {
            "text/plain": [
              "6.0"
            ]
          },
          "metadata": {},
          "execution_count": 9
        }
      ]
    },
    {
      "cell_type": "markdown",
      "source": [],
      "metadata": {
        "id": "OVpNBESvtADd"
      }
    },
    {
      "cell_type": "markdown",
      "source": [
        "Next, calculate the most frequent value of the same \"Engine Cylinders\".\n",
        "\n",
        "Use the fillna method to fill the missing values in \"Engine Cylinders\" with the most frequent value from the previous step.\n",
        "\n",
        "Now, calculate the median value of \"Engine Cylinders\" once again.\n"
      ],
      "metadata": {
        "id": "i4lmaJl_rnoa"
      }
    },
    {
      "cell_type": "code",
      "source": [
        "df['Engine Cylinders'].fillna(df['Engine Cylinders'].mode().iloc[0]).isna().sum()\n",
        "df['Engine Cylinders'].fillna(df['Engine Cylinders'].mode().iloc[0]).median()"
      ],
      "metadata": {
        "colab": {
          "base_uri": "https://localhost:8080/"
        },
        "id": "hjY-0iodf7xW",
        "outputId": "bf2cd2c7-4f1b-429f-8397-abbbf81c70e4"
      },
      "execution_count": 10,
      "outputs": [
        {
          "output_type": "execute_result",
          "data": {
            "text/plain": [
              "6.0"
            ]
          },
          "metadata": {},
          "execution_count": 10
        }
      ]
    },
    {
      "cell_type": "markdown",
      "source": [
        "## Question 7\n",
        "\n",
        "Select all the \"Lotus\" cars from the dataset.\n",
        "\n",
        "Select only columns \"Engine HP\", \"Engine Cylinders\".\n",
        "\n",
        "Now drop all duplicated rows using drop_duplicates method (you should get a dataframe with 9 rows).\n",
        "\n",
        "Get the underlying NumPy array. Let's call it X.\n",
        "\n",
        "Compute matrix-matrix multiplication between the transpose of X and X. To get the transpose, use X.T. Let's call the result XTX.\n",
        "\n",
        "Invert XTX.\n",
        "\n",
        "Create an array y with values [1100, 800, 750, 850, 1300, 1000, 1000, 1300, 800].\n",
        "\n",
        "Multiply the inverse of XTX with the transpose of X, and then multiply the result by y. Call the result w.\n",
        "\n",
        "What's the value of the first element of w?"
      ],
      "metadata": {
        "id": "U3d9aZkTiTOn"
      }
    },
    {
      "cell_type": "code",
      "source": [
        "X = df[df['Make'] == 'Lotus'][['Engine HP','Engine Cylinders']] \\\n",
        "                .drop_duplicates() \\\n",
        "                .reset_index(drop=True) \\\n",
        "                .to_numpy()\n",
        "                \n",
        "XTX = X.transpose().dot(X)\n",
        "y = np.array([1100, 800, 750, 850, 1300, 1000, 1000, 1300, 800], np.int32)\n",
        "w = np.linalg.inv(XTX).dot(X.transpose()).dot(y)\n",
        "w"
      ],
      "metadata": {
        "colab": {
          "base_uri": "https://localhost:8080/"
        },
        "id": "iK5IYGoPjwhc",
        "outputId": "b85cd8a2-c518-4d46-de1c-4f69d3151aae"
      },
      "execution_count": 11,
      "outputs": [
        {
          "output_type": "execute_result",
          "data": {
            "text/plain": [
              "array([  4.59494481, -63.56432501])"
            ]
          },
          "metadata": {},
          "execution_count": 11
        }
      ]
    }
  ]
}